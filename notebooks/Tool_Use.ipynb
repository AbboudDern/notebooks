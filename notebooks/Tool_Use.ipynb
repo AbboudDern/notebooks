{
 "cells": [
  {
   "cell_type": "markdown",
   "metadata": {},
   "source": [
    "# Multi-Step tool use with the Cohere Chat API\n",
    "\n",
    "In the example below, we demonstrate how to use the cohere Chat API with the `list_calendar_events` and `create_calendar_event` tools to book appointments. Booking the correct appointment requires the model to first check for an available slot by listing existing events, reasoning about the correct slot to book the new appointment and then finally invoking the right tool to create the calendar event. To learn more about Tool Use, read the official [guide](https://docs.cohere.com/docs/multi-step-tool-use)."
   ]
  },
  {
   "cell_type": "code",
   "execution_count": null,
   "metadata": {
    "vscode": {
     "languageId": "plaintext"
    }
   },
   "outputs": [],
   "source": [
    "!pip install cohere==5.5.3"
   ]
  },
  {
   "cell_type": "code",
   "execution_count": null,
   "metadata": {
    "vscode": {
     "languageId": "plaintext"
    }
   },
   "outputs": [],
   "source": [
    "# Instantiate the Cohere client\n",
    "\n",
    "import cohere\n",
    "co = cohere.Client(api_key=\"YOUR API KEY\")"
   ]
  },
  {
   "cell_type": "code",
   "execution_count": null,
   "metadata": {
    "vscode": {
     "languageId": "plaintext"
    }
   },
   "outputs": [],
   "source": [
    "# Define the tools\n",
    "\n",
    "import json\n",
    "\n",
    "def list_calendar_events(date: str):\n",
    "  events = '[{\"start\": \"14:00\", \"end\": \"15:00\"}, {\"start\": \"15:00\", \"end\": \"16:00\"}, {\"start\": \"17:00\", \"end\": \"18:00\"}]'\n",
    "  print(f\"Listing events: {events}\")\n",
    "  return events\n",
    "\n",
    "def create_calendar_event(date: str, time: str, duration: int):\n",
    "  print(f\"Creating a {duration} hour long event at {time} on {date}\")\n",
    "  return True\n",
    "\n",
    "list_calendar_events_tool = {\n",
    "  \"name\": \"list_calendar_events\",\n",
    "  \"description\": \"returns a list of calendar events for the specified date, including the start time and end time for each event\",\n",
    "  \"parameter_definitions\": {\n",
    "    \"date\": {\n",
    "      \"description\": \"the date to list events for, formatted as mm/dd/yy\",\n",
    "      \"type\": \"str\",\n",
    "      \"required\": True\n",
    "    }\n",
    "  }\n",
    "}\n",
    "\n",
    "create_calendar_event_tool = {\n",
    "  \"name\": \"create_calendar_event_tool\",\n",
    "  \"description\": \"creates a calendar event of the specified duration at the specified time and date\",\n",
    "  \"parameter_definitions\": {\n",
    "    \"date\": {\n",
    "      \"description\": \"the date on which the event starts, formatted as mm/dd/yy\",\n",
    "      \"type\": \"str\",\n",
    "      \"required\": True\n",
    "    },\n",
    "    \"time\": {\n",
    "      \"description\": \"the time of the event, formatted using 24h military time formatting\",\n",
    "      \"type\": \"str\",\n",
    "      \"required\": True\n",
    "    },\n",
    "    \"duration\": {\n",
    "      \"description\": \"the number of hours the event lasts for\",\n",
    "      \"type\": \"float\",\n",
    "      \"required\": True\n",
    "    }\n",
    "  }\n",
    "}\n",
    "\n",
    "# helper function for routing to the correct tool\n",
    "def invoke_tool(tool_call: cohere.ToolCall):\n",
    "  if tool_call.name == list_calendar_events_tool[\"name\"]:\n",
    "    date = tool_call.parameters[\"date\"]\n",
    "    return [{\n",
    "        \"events\": list_calendar_events(date)\n",
    "    }]\n",
    "  elif tool_call.name == create_calendar_event_tool[\"name\"]:\n",
    "    date = tool_call.parameters[\"date\"]\n",
    "    time = tool_call.parameters[\"time\"]\n",
    "    duration = tool_call.parameters[\"duration\"]\n",
    "\n",
    "    return [{\n",
    "        \"is_success\": create_calendar_event(date, time, duration)\n",
    "    }]\n",
    "  else:\n",
    "    raise f\"Unknown tool name '{tool_call.name}'\""
   ]
  },
  {
   "cell_type": "code",
   "execution_count": null,
   "metadata": {
    "vscode": {
     "languageId": "plaintext"
    }
   },
   "outputs": [],
   "source": [
    "# Check what tools the model wants to use and how to use them\n",
    "res = co.chat(\n",
    "    model=\"command-r-plus\",\n",
    "    preamble=\"Today is Thursday, may 23, 2024\",\n",
    "    message=\"book an hour long appointment for the first available free slot after 3pm\",\n",
    "    force_single_step=False,\n",
    "    tools=[list_calendar_events_tool, create_calendar_event_tool])\n",
    "\n",
    "while res.tool_calls:\n",
    "  print(res.text) # This will be an observation and a plan with next steps\n",
    "\n",
    "  # invoke the recommended tools\n",
    "  tool_results = []\n",
    "  for call in res.tool_calls:\n",
    "    tool_results.append({\"call\": call, \"outputs\": invoke_tool(call)})\n",
    "\n",
    "  # send back the tool results\n",
    "  res = co.chat(\n",
    "    model=\"command-r-plus\",\n",
    "    chat_history=res.chat_history,\n",
    "    message=\"\",\n",
    "    force_single_step=False,\n",
    "    tools=[list_calendar_events_tool, create_calendar_event_tool],\n",
    "    tool_results=tool_results,\n",
    "  )\n",
    "\n",
    "print(res.text) # print the final answer"
   ]
  }
 ],
 "metadata": {
  "language_info": {
   "name": "python"
  }
 },
 "nbformat": 4,
 "nbformat_minor": 2
}

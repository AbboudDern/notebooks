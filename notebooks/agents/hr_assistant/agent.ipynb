{
 "cells": [
  {
   "cell_type": "markdown",
   "source": [
    "# Case Study: Agentic Chatbots for HR Applications\n",
    "\n",
    "In this cookbook, we will demonstrate an implementation of an agentic chatbot that facilitates HR operations at a fictionalized version of Cohere. Through its tools, the chatbot is able to retrieve and act upon relevant information and fetch data from external data sources (such as a database or API)."
   ],
   "metadata": {
    "collapsed": false
   }
  },
  {
   "cell_type": "markdown",
   "metadata": {},
   "source": [
    "## Getting Started\n",
    "\n",
    "Let's start by setting up our imports and tool definitions. We provide our agent with mock data on Cohere employees, along with these tools:\n",
    "\n",
    "- `python_tool`: allow the model to write and execute Python code\n",
    "- `get_info_employee`: fetch information regarding a (mock) Cohere employee from a database\n",
    "- `search_cohere_policies`: fetch relevant documents about Cohere's HR policies\n",
    "- `get_employee_timezone`: fetch current UTC offset for a location\n",
    "- `internet_search`: browse the internet to find relevant information for the query\n",
    "- `get_template`: get the template for a specific kind of communication, such as offer to a candidate, refusal, etc.\n",
    "\n",
    "To simplify the code below, we keep the definitions of these tools in the `tools.py` file. For this cookbook, you will also need two API keys: one from Cohere, and one from [Tavily](https://tavily.com/) to allow the model to search the internet. You can create a `.env` file in this directory to store these."
   ]
  },
  {
   "cell_type": "code",
   "execution_count": null,
   "outputs": [],
   "source": [
    "# Uncomment if you need to install the following packages\n",
    "#!pip install --quiet langchain langchain_cohere langchain_experimental --upgrade"
   ],
   "metadata": {
    "collapsed": false
   }
  },
  {
   "cell_type": "code",
   "execution_count": 1,
   "metadata": {
    "collapsed": true
   },
   "outputs": [
    {
     "data": {
      "text/plain": [
       "True"
      ]
     },
     "execution_count": 1,
     "metadata": {},
     "output_type": "execute_result"
    }
   ],
   "source": [
    "import os\n",
    "\n",
    "from dotenv import load_dotenv\n",
    "from langchain_core.prompts import ChatPromptTemplate\n",
    "from langchain_cohere.chat_models import ChatCohere\n",
    "from langchain_cohere.react_multi_hop.agent import create_cohere_react_agent\n",
    "from langchain.agents import AgentExecutor\n",
    "from langchain_core.messages.ai import AIMessage\n",
    "from langchain_core.messages.human import HumanMessage\n",
    "\n",
    "from tools import python_tool, get_info_employee, search_cohere_policies, get_location_utc_offset, internet_search, get_template   \n",
    "\n",
    "load_dotenv()"
   ]
  },
  {
   "cell_type": "code",
   "execution_count": 2,
   "metadata": {},
   "outputs": [],
   "source": [
    "# API Keys\n",
    "cohere_api_key = os.getenv(\"CO_API_KEY\")"
   ]
  },
  {
   "cell_type": "code",
   "execution_count": 3,
   "metadata": {
    "collapsed": false
   },
   "outputs": [],
   "source": [
    "# define the tools\n",
    "TOOLS = [python_tool, get_info_employee, search_cohere_policies, get_location_utc_offset, internet_search, get_template]"
   ]
  },
  {
   "cell_type": "code",
   "execution_count": 4,
   "metadata": {
    "collapsed": false
   },
   "outputs": [],
   "source": [
    "# define the premable with the relevant information about the tools and the task\n",
    "PREAMBLE = \"\"\"## Task And Context\n",
    "You use your advanced complex reasoning capabilities to help people by answering their questions and other requests interactively. You will be asked a very wide array of requests on all kinds of topics. You should focus on serving the user's needs as best you can, which will be wide-ranging. \n",
    "\n",
    "You will be equipped with various tools to help you generate responses. You may need to use multiple tools in parallel or sequentially to complete your task. Think step-by-step.\n",
    "\n",
    "## Style Guide\n",
    "Unless the user asks for a different style of answer, you should answer in full sentences, using proper grammar and spelling.\n",
    "\n",
    "## Additional Context\n",
    "You are serving as an interface between a user and multiple data sources related to Human Resources at Cohere. You answer the user's question using the tools you have access to. \n",
    "\n",
    "The conversation will happen in a chat setting, so user queries may depend on previous context. Try to use previous context wherever possible, rather than recomputing answers.\n",
    "\"\"\"\n",
    "\n",
    "prompt = ChatPromptTemplate.from_template(\"{input}\")"
   ]
  },
  {
   "cell_type": "code",
   "execution_count": 5,
   "metadata": {
    "collapsed": false
   },
   "outputs": [],
   "source": [
    "# Define the agent\n",
    "llm = ChatCohere(model=\"command-r-plus\", temperature=0, cohere_api_key=cohere_api_key)\n",
    "\n",
    "# instantiate agent and agent executor\n",
    "agent = create_cohere_react_agent(\n",
    "   llm=llm,\n",
    "   tools=TOOLS,\n",
    "   prompt=prompt,\n",
    ")\n",
    "agent_executor = AgentExecutor(agent=agent,\n",
    "                               tools=TOOLS,\n",
    "                               verbose=True,\n",
    "                               return_intermediate_steps=True\n",
    "                               )"
   ]
  },
  {
   "cell_type": "code",
   "execution_count": 6,
   "metadata": {
    "collapsed": false
   },
   "outputs": [],
   "source": [
    "# initialize empty chat history\n",
    "chat_history  = []\n",
    "\n",
    "# functions to converse with the Agent\n",
    "def update_chat_history(chat_history, query, answer):\n",
    "    chat_history.append(HumanMessage(content=query))\n",
    "    chat_history.append(AIMessage(content=answer['output']))\n",
    "    return chat_history\n",
    "\n",
    "def run_agent(query, chat_history, preamble=PREAMBLE):\n",
    "    answer = agent_executor.invoke(\n",
    "            {\n",
    "                \"input\": query,\n",
    "                \"preamble\": preamble,\n",
    "                \"chat_history\": chat_history\n",
    "            }\n",
    "        )\n",
    "    chat_history = update_chat_history(chat_history, query, answer)\n",
    "\n",
    "    return answer, chat_history"
   ]
  },
  {
   "cell_type": "markdown",
   "metadata": {
    "collapsed": false
   },
   "source": [
    "## Basic Prompts\n",
    "\n",
    "We are now ready to run some basic queries. These initial queries do not depend on prior chat history."
   ]
  },
  {
   "cell_type": "code",
   "execution_count": 7,
   "metadata": {
    "collapsed": false
   },
   "outputs": [
    {
     "name": "stdout",
     "output_type": "stream",
     "text": [
      "\n",
      "\n",
      "\u001B[1m> Entering new AgentExecutor chain...\u001B[0m\n",
      "\u001B[32;1m\u001B[1;3m\n",
      "I will use the 'get_template' tool to retrieve the template for an offer letter. I will then fill in the template with the information provided by the user.\n",
      "{'tool_name': 'get_template', 'parameters': {'template_type': 'offer'}}\n",
      "\u001B[0m\u001B[38;5;200m\u001B[1;3mDear [Candidate Name], \n",
      "\n",
      "I am delighted to extend an offer for the position of [Role] at Cohere. Your expertise and passion for machine learning have impressed us, and we strongly believe that you will be an invaluable addition to our team. \n",
      "\n",
      "At Cohere, we are dedicated to pushing the boundaries of machine learning technology and innovating in the field. As a key member of our team, you will play a pivotal role in driving this mission forward. Your responsibilities will include designing and developing machine learning models, collaborating with cross-functional teams, and contributing to cutting-edge research and development initiatives. \n",
      "\n",
      "Here are the details of our offer: \n",
      "1. Job Title: [Role]\n",
      "2. Start Date: [Desired Start Date] (negotiable)\n",
      "3. Salary: [Offered Salary] (annual, semi-annual, or monthly basis)\n",
      "4. Benefits: \n",
      "   - Health insurance coverage, including medical, dental, and vision benefits.\n",
      "   - Retirement plan options, such as a 401(k) or similar, with employer matching contributions up to a certain percentage.\n",
      "   - Professional development budget for conferences, courses, or certifications to support your continued growth in the field.\n",
      "5. Bonus and Incentives: \n",
      "   - Performance-based bonus structure\n",
      "   - Equity options/grants, offering the opportunity to benefit from the company's success and growth.\n",
      "6. Work Location: [Location] \n",
      "\n",
      "We are confident that you will find our company culture stimulating and rewarding. We value collaboration, continuous learning, and a healthy work-life balance. You will be joining a dynamic and supportive team that is excited to welcome you aboard. \n",
      "\n",
      "We are thrilled at the prospect of having you join our team and contributing your exceptional skills and knowledge to our organization. Congratulations, and we look forward to hearing back from you soon! \n",
      "\n",
      "Sincerely,  \n",
      "Cohere\u001B[0m\u001B[32;1m\u001B[1;3mRelevant Documents: 0\n",
      "Cited Documents: 0\n",
      "Answer: Dear Ines Villa, \n",
      "\n",
      "I am delighted to extend an offer for the position of Machine Learning Engineer at Cohere. Your expertise and passion for machine learning have impressed us, and we strongly believe that you will be an invaluable addition to our team. \n",
      "\n",
      "At Cohere, we are dedicated to pushing the boundaries of machine learning technology and innovating in the field. As a key member of our team, you will play a pivotal role in driving this mission forward. Your responsibilities will include designing and developing machine learning models, collaborating with cross-functional teams, and contributing to cutting-edge research and development initiatives. \n",
      "\n",
      "Here are the details of our offer: \n",
      "\n",
      "1. Job Title: Machine Learning Engineer\n",
      "2. Start Date: September 1st, 2024\n",
      "3. Salary: $100,000 (annual)\n",
      "4. Benefits: \n",
      "   - Health insurance coverage, including medical, dental, and vision benefits.\n",
      "   - Retirement plan options, such as a 401(k) or similar, with employer matching contributions up to a certain percentage.\n",
      "   - Professional development budget for conferences, courses, or certifications to support your continued growth in the field.\n",
      "5. Bonus and Incentives: \n",
      "   - Performance-based bonus structure\n",
      "   - Equity options/grants, offering the opportunity to benefit from the company's success and growth.\n",
      "6. Work Location: New York \n",
      "\n",
      "We are confident that you will find our company culture stimulating and rewarding. We value collaboration, continuous learning, and a healthy work-life balance. You will be joining a dynamic and supportive team that is excited to welcome you aboard. \n",
      "\n",
      "We are thrilled at the prospect of having you join our team and contributing your exceptional skills and knowledge to our organization. Congratulations, and we look forward to hearing back from you soon! \n",
      "\n",
      "Sincerely, \n",
      "Cohere\n",
      "Grounded answer: <co: 0>Dear Ines Villa</co: 0>, \n",
      "\n",
      "<co: 0>I am delighted to extend an offer for the position of Machine Learning Engineer at Cohere. Your expertise and passion for machine learning have impressed us, and we strongly believe that you will be an invaluable addition to our team</co: 0>. \n",
      "\n",
      "<co: 0>At Cohere, we are dedicated to pushing the boundaries of machine learning technology and innovating in the field. As a key member of our team, you will play a pivotal role in driving this mission forward. Your responsibilities will include designing and developing machine learning models, collaborating with cross-functional teams, and contributing to cutting-edge research and development initiatives</co: 0>. \n",
      "\n",
      "<co: 0>Here are the details of our offer</co: 0>: \n",
      "\n",
      "<co: 0>1. Job Title: Machine Learning Engineer</co: 0>\n",
      "<co: 0>2. Start Date: September 1st, 2024</co: 0>\n",
      "<co: 0>3. Salary: $100,000 (annual</co: 0>)\n",
      "<co: 0>4. Benefits</co: 0>: \n",
      " <co: 0> - Health insurance coverage, including medical, dental, and vision benefits</co: 0>.\n",
      " <co: 0> - Retirement plan options, such as a 401(k) or similar, with employer matching contributions up to a certain percentage</co: 0>.\n",
      " <co: 0> - Professional development budget for conferences, courses, or certifications to support your continued growth in the field</co: 0>.\n",
      "<co: 0>5. Bonus and Incentives</co: 0>: \n",
      " <co: 0> - Performance-based bonus structure</co: 0>\n",
      " <co: 0> - Equity options/grants, offering the opportunity to benefit from the company's success and growth</co: 0>.\n",
      "<co: 0>6. Work Location: New York</co: 0> \n",
      "\n",
      "<co: 0>We are confident that you will find our company culture stimulating and rewarding. We value collaboration, continuous learning, and a healthy work-life balance. You will be joining a dynamic and supportive team that is excited to welcome you aboard</co: 0>. \n",
      "\n",
      "<co: 0>We are thrilled at the prospect of having you join our team and contributing your exceptional skills and knowledge to our organization. Congratulations, and we look forward to hearing back from you soon</co: 0>! \n",
      "\n",
      "<co: 0>Sincerely</co: 0>, \n",
      "<co: 0>Cohere</co: 0>\u001B[0m\n",
      "\n",
      "\u001B[1m> Finished chain.\u001B[0m\n"
     ]
    }
   ],
   "source": [
    "q0 = \"Generate an offer for the role of Machine Learning Engineer for the candidate Ines Villa, with starting date September 1st 2024, salary $100000 annually, and location in New York.\"\n",
    "\n",
    "a0, chat_history = run_agent(q0, chat_history)"
   ]
  },
  {
   "cell_type": "code",
   "execution_count": 8,
   "metadata": {
    "collapsed": false
   },
   "outputs": [
    {
     "name": "stdout",
     "output_type": "stream",
     "text": [
      "\n",
      "\n",
      "\u001B[1m> Entering new AgentExecutor chain...\u001B[0m\n",
      "\u001B[32;1m\u001B[1;3m\n",
      "I will search for the number of days off Cohere employees have.\n",
      "{'tool_name': 'search_cohere_policies', 'parameters': {'query': 'number of days off'}}\n",
      "\u001B[0m\u001B[38;5;200m\u001B[1;3mAt Cohere, every employee has 30 days off per year.\u001B[0m\u001B[32;1m\u001B[1;3mRelevant Documents: 0\n",
      "Cited Documents: 0\n",
      "Answer: Every Cohere employee has 30 days off per year.\n",
      "Grounded answer: Every Cohere employee has <co: 0>30 days off per year</co: 0>.\u001B[0m\n",
      "\n",
      "\u001B[1m> Finished chain.\u001B[0m\n"
     ]
    }
   ],
   "source": [
    "q1 = \"how many days off do Cohere employees have?\"\n",
    "a1, chat_history = run_agent(q1, chat_history)"
   ]
  },
  {
   "cell_type": "code",
   "execution_count": 9,
   "metadata": {
    "collapsed": false
   },
   "outputs": [
    {
     "name": "stdout",
     "output_type": "stream",
     "text": [
      "\n",
      "\n",
      "\u001B[1m> Entering new AgentExecutor chain...\u001B[0m\n",
      "\u001B[32;1m\u001B[1;3m\n",
      "I will search for the number of days off Aaron has used.\n",
      "{'tool_name': 'get_info_employee', 'parameters': {'employee': 'Aaron'}}\n",
      "\u001B[0m\u001B[33;1m\u001B[1;3m{'name': 'Aaron', 'used_days_off': 12, 'location': 'London', 'role': 'ML eng'}\u001B[0m\u001B[32;1m\u001B[1;3mRelevant Documents: 0\n",
      "Cited Documents: 0\n",
      "Answer: Aaron has used 12 days off.\n",
      "Grounded answer: Aaron has used <co: 0>12 days off</co: 0>.\u001B[0m\n",
      "\n",
      "\u001B[1m> Finished chain.\u001B[0m\n"
     ]
    }
   ],
   "source": [
    "q2 = \"how many days off did Aaron use?\"\n",
    "a2, chat_history = run_agent(q2, chat_history)"
   ]
  },
  {
   "cell_type": "markdown",
   "source": [
    "In the examples above, the Agent receives the input query and selects the most appropriate tool ('get_template', 'search_cohere_policies' and 'get_info_employee') to generate the answer."
   ],
   "metadata": {
    "collapsed": false
   }
  },
  {
   "cell_type": "markdown",
   "metadata": {},
   "source": [
    "## History-dependent Queries\n",
    "\n",
    "These queries depend on the prior chat history. However, the usage pattern is exactly the same as before!"
   ]
  },
  {
   "cell_type": "code",
   "execution_count": 10,
   "metadata": {
    "collapsed": false
   },
   "outputs": [
    {
     "name": "stdout",
     "output_type": "stream",
     "text": [
      "\n",
      "\n",
      "\u001B[1m> Entering new AgentExecutor chain...\u001B[0m\n",
      "\u001B[32;1m\u001B[1;3m\n",
      "I will use the 'get_info_employee' tool to find out how many days off Aaron has used, and then calculate how many days off he has left.\n",
      "{'tool_name': 'get_info_employee', 'parameters': {'employee': 'Aaron'}}\n",
      "\u001B[0m\u001B[33;1m\u001B[1;3m{'name': 'Aaron', 'used_days_off': 12, 'location': 'London', 'role': 'ML eng'}\u001B[0m\u001B[32;1m\u001B[1;3mRelevant Documents: 0\n",
      "Cited Documents: 0\n",
      "Answer: Aaron has 18 days off left.\n",
      "Grounded answer: Aaron has <co: 0>18 days off left.</co: 0>\u001B[0m\n",
      "\n",
      "\u001B[1m> Finished chain.\u001B[0m\n"
     ]
    }
   ],
   "source": [
    "q3 = \"how many days off does he have left?\"\n",
    "\n",
    "a3, chat_history = run_agent(q3, chat_history)"
   ]
  },
  {
   "cell_type": "code",
   "execution_count": 11,
   "metadata": {
    "collapsed": false
   },
   "outputs": [
    {
     "name": "stdout",
     "output_type": "stream",
     "text": [
      "\n",
      "\n",
      "\u001B[1m> Entering new AgentExecutor chain...\u001B[0m\n",
      "\u001B[32;1m\u001B[1;3m\n",
      "I will search for the number of days off Harper has used, then subtract that from the total number of days off to calculate how many days off Harper has left.\n",
      "{'tool_name': 'get_info_employee', 'parameters': {'employee': 'Harper'}}\n",
      "\u001B[0m\u001B[33;1m\u001B[1;3m{'name': 'Harper', 'used_days_off': 7, 'location': 'Singapore', 'role': 'ML eng'}\u001B[0m\u001B[32;1m\u001B[1;3mRelevant Documents: 0\n",
      "Cited Documents: 0\n",
      "Answer: Harper has 23 days off left.\n",
      "Grounded answer: Harper has <co: 0>23 days off left</co: 0>.\u001B[0m\n",
      "\n",
      "\u001B[1m> Finished chain.\u001B[0m\n"
     ]
    }
   ],
   "source": [
    "q4 = \"And Harper?\"\n",
    "\n",
    "a4, chat_history = run_agent(q4, chat_history)"
   ]
  },
  {
   "cell_type": "code",
   "execution_count": 12,
   "metadata": {
    "collapsed": false
   },
   "outputs": [
    {
     "name": "stdout",
     "output_type": "stream",
     "text": [
      "\n",
      "\n",
      "\u001B[1m> Entering new AgentExecutor chain...\u001B[0m\n",
      "\u001B[32;1m\u001B[1;3m\n",
      "I will search for Harper's location using the 'get_info_employee' tool.\n",
      "{'tool_name': 'get_info_employee', 'parameters': {'employee': 'Harper'}}\n",
      "\u001B[0m\u001B[33;1m\u001B[1;3m{'name': 'Harper', 'used_days_off': 7, 'location': 'Singapore', 'role': 'ML eng'}\u001B[0m\u001B[32;1m\u001B[1;3mRelevant Documents: 0\n",
      "Cited Documents: 0\n",
      "Answer: Harper is based in Singapore.\n",
      "Grounded answer: Harper is based in <co: 0>Singapore</co: 0>.\u001B[0m\n",
      "\n",
      "\u001B[1m> Finished chain.\u001B[0m\n"
     ]
    }
   ],
   "source": [
    "q5 = \"Where is he based?\"\n",
    "\n",
    "a5, chat_history = run_agent(q5, chat_history)"
   ]
  },
  {
   "cell_type": "code",
   "execution_count": 13,
   "metadata": {},
   "outputs": [
    {
     "name": "stdout",
     "output_type": "stream",
     "text": [
      "\n",
      "\n",
      "\u001B[1m> Entering new AgentExecutor chain...\u001B[0m\n",
      "\u001B[32;1m\u001B[1;3m\n",
      "I will first find out where Aaron is based, then I will use the 'get_employee_timezone' tool to find the time difference between Harper and Aaron.\n",
      "{'tool_name': 'get_info_employee', 'parameters': {'employee': 'Aaron'}}\n",
      "\u001B[0m\u001B[33;1m\u001B[1;3m{'name': 'Aaron', 'used_days_off': 12, 'location': 'London', 'role': 'ML eng'}\u001B[0m\u001B[32;1m\u001B[1;3m\n",
      "Aaron is based in London. Now I will use the 'get_employee_timezone' tool to find the time difference between Harper and Aaron.\n",
      "{'tool_name': 'get_employee_timezone', 'parameters': {'city': 'Singapore'}}\n",
      "\u001B[0m\u001B[36;1m\u001B[1;3m8.0\u001B[0m\u001B[32;1m\u001B[1;3m\n",
      "{'tool_name': 'get_employee_timezone', 'parameters': {'city': 'London'}}\n",
      "\u001B[0m\u001B[36;1m\u001B[1;3m1.0\u001B[0m\u001B[32;1m\u001B[1;3mRelevant Documents: 0,1,2\n",
      "Cited Documents: 0,1,2\n",
      "Answer: There is a 7-hour time difference between Harper and Aaron.\n",
      "Grounded answer: There is a <co: 1,2>7-hour</co: 1,2> time difference between Harper and Aaron.\u001B[0m\n",
      "\n",
      "\u001B[1m> Finished chain.\u001B[0m\n"
     ]
    }
   ],
   "source": [
    "q6 = \"What's the time difference between Harper and Aaron?\"\n",
    "\n",
    "a6, chat_history = run_agent(q6, chat_history)"
   ]
  },
  {
   "cell_type": "code",
   "execution_count": 14,
   "metadata": {
    "collapsed": false
   },
   "outputs": [
    {
     "name": "stdout",
     "output_type": "stream",
     "text": [
      "\n",
      "\n",
      "\u001B[1m> Entering new AgentExecutor chain...\u001B[0m\n",
      "\u001B[32;1m\u001B[1;3m\n",
      "I will search for the locations of Harper and Aaron and then use an online distance calculator to find out how far apart they are.\n",
      "{'tool_name': 'get_info_employee', 'parameters': {'employee': 'Harper'}}\n",
      "\u001B[0m\u001B[33;1m\u001B[1;3m{'name': 'Harper', 'used_days_off': 7, 'location': 'Singapore', 'role': 'ML eng'}\u001B[0m\u001B[32;1m\u001B[1;3m\n",
      "{'tool_name': 'get_info_employee', 'parameters': {'employee': 'Aaron'}}\n",
      "\u001B[0m\u001B[33;1m\u001B[1;3m{'name': 'Aaron', 'used_days_off': 12, 'location': 'London', 'role': 'ML eng'}\u001B[0m\u001B[32;1m\u001B[1;3m\n",
      "Harper is based in Singapore and Aaron is based in London. Now I will use an online distance calculator to find out how far apart they are.\n",
      "{'tool_name': 'internet_search', 'parameters': {'query': 'distance between singapore and london'}}\n",
      "\u001B[0m\u001B[33;1m\u001B[1;3m[{'url': 'https://www.rome2rio.com/s/Singapore/London', 'content': 'The distance between Singapore and London is 6828 miles. How long does it take to get from Singapore to London? It takes approximately 16h 24m to get from Singapore to London, including transfers.'}, {'url': 'https://www.travelmath.com/distance/from/Singapore/to/London,+United+Kingdom', 'content': 'The total straight line flight distance from Singapore to London, United Kingdom is 6,742 miles. This is equivalent to 10 850 kilometers or 5,858 nautical miles. Your trip begins in Singapore. It ends in London, United Kingdom. Your flight direction from Singapore to London, United Kingdom is Northwest (-38 degrees from North).'}, {'url': 'https://www.rome2rio.com/s/London/Singapore', 'content': 'The cheapest way to get from London to Singapore costs only $513, and the quickest way takes just 16 hours. Find the travel option that best suits you. Rome2Rio. ... The distance between London and Singapore is 10925 km. How long does it take to get from London to Singapore?'}, {'url': 'https://www.rome2rio.com/s/London/Singapore-Country', 'content': 'The distance between London and Singapore is 10915 km. How long does it take to get from London to Singapore? It takes approximately 15h 40m to get from London to Singapore, including transfers.'}, {'url': 'https://www.distance.to/London/Singapore', 'content': 'Distance: 6,738.95 mi (10,845.29 km) The shortest distance (air line) between London and Singapore is 6,738.95 mi (10,845.29 km). Driving route: -- (- ) The shortest route between London and Singapore is according to the route planner. The driving time is approx. . Half of the trip is reached in . Time difference: 7h'}]\u001B[0m\u001B[32;1m\u001B[1;3mRelevant Documents: 0,1,2,3,4,5,6\n",
      "Cited Documents: 0,1,2,3,4,5,6\n",
      "Answer: Harper is based in Singapore and Aaron is based in London. The distance between Singapore and London is approximately 6,742 miles or 10,845 kilometres.\n",
      "Grounded answer: Harper is based in <co: 0>Singapore</co: 0> and Aaron is based in <co: 1>London</co: 1>. The distance between Singapore and London is approximately <co: 2,3>6,742 miles</co: 2,3> or <co: 4,5,6>10,845 kilometres</co: 4,5,6>.\u001B[0m\n",
      "\n",
      "\u001B[1m> Finished chain.\u001B[0m\n"
     ]
    }
   ],
   "source": [
    "q7 = \"How far apart are Harper and Aaron?\"\n",
    "\n",
    "a7, chat_history = run_agent(q7, chat_history)"
   ]
  },
  {
   "cell_type": "markdown",
   "source": [
    "In these examples, we see how the Agent can leverage the information shared with the user during the conversations to answer follow-up question. Furthermore, we can see, in the last question, the ability of the Agent in dealing with complex queries which require using several tools."
   ],
   "metadata": {
    "collapsed": false
   }
  }
 ],
 "metadata": {
  "kernelspec": {
   "display_name": "Python 3",
   "language": "python",
   "name": "python3"
  },
  "language_info": {
   "codemirror_mode": {
    "name": "ipython",
    "version": 3
   },
   "file_extension": ".py",
   "mimetype": "text/x-python",
   "name": "python",
   "nbconvert_exporter": "python",
   "pygments_lexer": "ipython3",
   "version": "3.12.2"
  }
 },
 "nbformat": 4,
 "nbformat_minor": 0
}
